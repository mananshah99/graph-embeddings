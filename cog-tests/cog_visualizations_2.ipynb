{
 "cells": [
  {
   "cell_type": "markdown",
   "metadata": {},
   "source": [
    "## High-Coverage COGs and Ribosomal Protein COG Network Structures"
   ]
  },
  {
   "cell_type": "code",
   "execution_count": 1,
   "metadata": {
    "collapsed": false
   },
   "outputs": [],
   "source": [
    "import os\n",
    "import sys\n",
    "sys.path.insert(0, '../common')\n",
    "\n",
    "import settings\n",
    "import util\n",
    "\n",
    "from tqdm import tqdm\n",
    "import numpy as np\n",
    "\n",
    "import matplotlib\n",
    "matplotlib.use('agg')\n",
    "import matplotlib.pyplot as plt\n",
    "%matplotlib inline\n",
    "plt.rcParams['figure.figsize'] = (12, 12)\n",
    "plt.ion()"
   ]
  },
  {
   "cell_type": "code",
   "execution_count": 2,
   "metadata": {
    "collapsed": false
   },
   "outputs": [],
   "source": [
    "# can't return a matrix -- would be too sparse\n",
    "# will return dictionary instead\n",
    "def read_cog_links(location=settings.COG_LINKS):\n",
    "    f = open(location, 'r')\n",
    "    association_mapping = {}\n",
    "    \n",
    "    progress = tqdm(total = util.count_lines(location))\n",
    "    \n",
    "    first = True\n",
    "    for line in f:\n",
    "        if first:\n",
    "            first = False\n",
    "            progress.update(1)\n",
    "            continue\n",
    "        else:\n",
    "            line = line.strip('\\n').split(' ')\n",
    "            if line[0] in association_mapping:\n",
    "                association_mapping[line[0]].append([line[1], line[2]])\n",
    "            else:\n",
    "                association_mapping[line[0]] = [line[1], line[2]]\n",
    "            \n",
    "            if line[1] in association_mapping:\n",
    "                association_mapping[line[1]].append([line[0], line[2]])\n",
    "            else:\n",
    "                association_mapping[line[1]] = [line[0], line[2]]\n",
    "\n",
    "            progress.update(1)\n",
    "        \n",
    "    return association_mapping"
   ]
  },
  {
   "cell_type": "code",
   "execution_count": 3,
   "metadata": {
    "collapsed": false
   },
   "outputs": [
    {
     "name": "stderr",
     "output_type": "stream",
     "text": [
      "100%|██████████| 17990425/17990425 [02:08<00:00, 140215.97it/s]\n"
     ]
    }
   ],
   "source": [
    "association_mapping = read_cog_links()"
   ]
  },
  {
   "cell_type": "code",
   "execution_count": 6,
   "metadata": {
    "collapsed": false
   },
   "outputs": [
    {
     "data": {
      "text/plain": [
       "67832"
      ]
     },
     "execution_count": 6,
     "metadata": {},
     "output_type": "execute_result"
    }
   ],
   "source": [
    "len(association_mapping)/2"
   ]
  },
  {
   "cell_type": "code",
   "execution_count": 23,
   "metadata": {
    "collapsed": false
   },
   "outputs": [
    {
     "data": {
      "text/plain": [
       "'309'"
      ]
     },
     "execution_count": 23,
     "metadata": {},
     "output_type": "execute_result"
    }
   ],
   "source": [
    "association_mapping['COG0197'][1]"
   ]
  },
  {
   "cell_type": "code",
   "execution_count": null,
   "metadata": {
    "collapsed": true
   },
   "outputs": [],
   "source": []
  }
 ],
 "metadata": {
  "kernelspec": {
   "display_name": "Python 2",
   "language": "python",
   "name": "python2"
  },
  "language_info": {
   "codemirror_mode": {
    "name": "ipython",
    "version": 2
   },
   "file_extension": ".py",
   "mimetype": "text/x-python",
   "name": "python",
   "nbconvert_exporter": "python",
   "pygments_lexer": "ipython2",
   "version": "2.7.6"
  }
 },
 "nbformat": 4,
 "nbformat_minor": 0
}
