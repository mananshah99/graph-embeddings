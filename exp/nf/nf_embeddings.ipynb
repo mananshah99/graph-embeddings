{
 "cells": [
  {
   "cell_type": "markdown",
   "metadata": {},
   "source": [
    "# Initial Experiments with Neural Fingerprint Embeddings\n",
    "\n",
    "This notebook contains experiments varying the complexity of graphs upon which the neural fingerprint embedding is applied. Our hypothesis rests on the notion that NF embeddings perform well on smaller graphs with clearly distinguishable features but fail on complicated (or more generally, random) graphs. \n",
    "\n",
    "* Experiment 1: 500 Identical Cycle Graphs compared to 500 Identical Barabasi-Albert Graphs\n",
    "* Experiment 2: 500 Different Erdos-Renyi Graphs compared to 500 Different Barabasi-Albert Graphs\n",
    "* Experiment 3: 500 Identical Cycle Graphs compared to 500 Different Barabasi-Albert Graphs\n",
    "* Experiment 4: 500 Identical Erdos-Renyi Graphs compared to 500 Identical Barabasi-Albert Graphs"
   ]
  },
  {
   "cell_type": "code",
   "execution_count": 1,
   "metadata": {
    "collapsed": false
   },
   "outputs": [],
   "source": [
    "import os, sys\n",
    "import networkx as nx\n",
    "\n",
    "sys.path.append(\"/afs/cs.stanford.edu/u/manans/Desktop/graph-embeddings/embed/\")\n",
    "from embed import embed\n",
    "\n",
    "%matplotlib inline\n",
    "\n",
    "import matplotlib\n",
    "import numpy as np\n",
    "import matplotlib.pyplot as plt\n",
    "from matplotlib.ticker import NullFormatter\n",
    "from sklearn import manifold, datasets\n",
    "from time import time\n",
    "\n",
    "from tqdm import tqdm\n",
    "\n",
    "train_dir = '/dfs/scratch0/manans/nf-exp/train'\n",
    "train_labels = {}\n",
    "test_dir  = '/dfs/scratch0/manans/nf-exp/test'\n",
    "emb_dir   = '/dfs/scratch0/manans/nf-exp/emb'\n",
    "\n",
    "def save_graph(G, name, directory):\n",
    "    nx.write_edgelist(G, directory + \"/\" + name)\n",
    "    \n",
    "def clean():\n",
    "    os.system(\"rm \" + train_dir + \"/*\")\n",
    "    os.system(\"rm \" + test_dir  + \"/*\")\n",
    "    os.system(\"rm \" + emb_dir   + \"/*\")\n",
    "    \n",
    "def plot_embedding(X, y, title=None):\n",
    "    x_min, x_max = np.min(X, 0), np.max(X, 0)\n",
    "    X = (X - x_min) / (x_max - x_min)\n",
    "\n",
    "    fig = plt.figure()\n",
    "    for i in range(X.shape[0]):\n",
    "        if y[i] == 0:\n",
    "            clr = 'b'\n",
    "        elif y[i] == 1:\n",
    "            clr = 'r'\n",
    "        point = plt.plot(X[i, 0], X[i, 1], color=clr, marker='o')\n",
    "\n",
    "    plt.xticks([]), plt.yticks([])\n",
    "    if title is not None:\n",
    "        plt.title(title)"
   ]
  },
  {
   "cell_type": "markdown",
   "metadata": {},
   "source": [
    "# Experiment 1: 500 Identical Circle, 500 Identical Barabasi-Albert"
   ]
  },
  {
   "cell_type": "code",
   "execution_count": 2,
   "metadata": {
    "collapsed": false
   },
   "outputs": [
    {
     "name": "stderr",
     "output_type": "stream",
     "text": [
      "100%|██████████| 500/500 [00:12<00:00, 39.55it/s]\n",
      "100%|██████████| 500/500 [00:14<00:00, 33.67it/s]\n"
     ]
    }
   ],
   "source": [
    "circle_graphs = []\n",
    "G = nx.cycle_graph(50)\n",
    "for i in tqdm(xrange(500)):\n",
    "    save_graph(G, str(i) + '.edgelist', train_dir if i < 400 else test_dir)\n",
    "    if i < 400:\n",
    "        train_labels[str(i) + '.edgelist'] = 0\n",
    "    circle_graphs.append(G)\n",
    "    \n",
    "ba_graphs = []\n",
    "G = nx.barabasi_albert_graph(50, 5, 0)\n",
    "for i in tqdm(xrange(500)):\n",
    "    save_graph(G, str(i + 500) + '.edgelist', train_dir if (i + 500) < 900 else test_dir)\n",
    "    if (i + 500) < 900:\n",
    "        train_labels[str(i + 500) + '.edgelist'] = 1\n",
    "    ba_graphs.append(G)"
   ]
  },
  {
   "cell_type": "code",
   "execution_count": null,
   "metadata": {
    "collapsed": false
   },
   "outputs": [],
   "source": [
    "e1_fingerprint_embeddings = \\\n",
    "    embed(train_input_directory     = train_dir,\n",
    "            train_label_mapping     = train_labels,\n",
    "            test_input_directory    = test_dir,\n",
    "            test_output_directory   = emb_dir,\n",
    "            method                  = 'nf-original',\n",
    "            n_epochs                = 5,\n",
    "            train                   = True)"
   ]
  },
  {
   "cell_type": "code",
   "execution_count": 4,
   "metadata": {
    "collapsed": false,
    "scrolled": true
   },
   "outputs": [],
   "source": [
    "X = np.array([])\n",
    "y = []\n",
    "\n",
    "for i, key in enumerate(e1_fingerprint_embeddings.keys()):\n",
    "    if i == 0:\n",
    "        X = np.hstack((X, e1_fingerprint_embeddings[key]))\n",
    "    else:\n",
    "        X = np.vstack((X, e1_fingerprint_embeddings[key]))\n",
    "    y.append(0 if int(key) < 500 else 1)"
   ]
  },
  {
   "cell_type": "code",
   "execution_count": 5,
   "metadata": {
    "collapsed": false,
    "scrolled": false
   },
   "outputs": [
    {
     "name": "stdout",
     "output_type": "stream",
     "text": [
      "[t-SNE] Computing pairwise distances...\n",
      "[t-SNE] Computing 199 nearest neighbors...\n",
      "[t-SNE] Computed conditional probabilities for sample 200 / 200\n",
      "[t-SNE] Mean sigma: 1125899906842624.000000\n",
      "[t-SNE] Iteration 25: error = 0.0000384, gradient norm = 0.0000007\n",
      "[t-SNE] Iteration 25: gradient norm 0.000001. Finished.\n",
      "[t-SNE] Iteration 50: error = 0.0000295, gradient norm = 0.0000003\n",
      "[t-SNE] Iteration 50: gradient norm 0.000000. Finished.\n",
      "[t-SNE] KL divergence after 50 iterations with early exaggeration: 0.000029\n",
      "[t-SNE] Iteration 75: error = 0.0000228, gradient norm = 0.0000002\n",
      "[t-SNE] Iteration 75: gradient norm 0.000000. Finished.\n",
      "[t-SNE] Error after 75 iterations: 0.000029\n"
     ]
    },
    {
     "data": {
      "image/png": "[encoded data removed]",
      "text/plain": [
       "<matplotlib.figure.Figure at 0x7fbaa1614510>"
      ]
     },
     "metadata": {},
     "output_type": "display_data"
    }
   ],
   "source": [
    "tsne = manifold.TSNE(n_components=2, init='pca', random_state=0, perplexity=200, n_iter=3000, verbose=2)\n",
    "X_tsne = tsne.fit_transform(X)\n",
    "plot_embedding(X_tsne, y, \"t-SNE embedding\")"
   ]
  },
  {
   "cell_type": "markdown",
   "metadata": {},
   "source": [
    "# Experiment 2: 500 Different Erdos-Renyi, 500 Different Barabasi-Albert"
   ]
  },
  {
   "cell_type": "code",
   "execution_count": null,
   "metadata": {
    "collapsed": false,
    "scrolled": true
   },
   "outputs": [],
   "source": [
    "er_graphs = []\n",
    "for i in tqdm(xrange(500)):\n",
    "    G = nx.erdos_renyi_graph(50, 0.2)\n",
    "    save_graph(G, str(i) + '.edgelist', train_dir if i < 400 else test_dir)\n",
    "    if i < 400:\n",
    "        train_labels[str(i) + '.edgelist'] = 0\n",
    "    er_graphs.append(G)\n",
    "    \n",
    "ba_graphs = []\n",
    "for i in tqdm(xrange(500)):\n",
    "    G = nx.barabasi_albert_graph(50, 5)\n",
    "    save_graph(G, str(i + 500) + '.edgelist', train_dir if (i + 500) < 900 else test_dir)\n",
    "    if (i + 500) < 900:\n",
    "        train_labels[str(i + 500) + '.edgelist'] = 1\n",
    "    ba_graphs.append(G)"
   ]
  },
  {
   "cell_type": "code",
   "execution_count": null,
   "metadata": {
    "collapsed": false
   },
   "outputs": [],
   "source": [
    "e2_fingerprint_embeddings = \\\n",
    "    embed(train_input_directory     = train_dir,\n",
    "            train_label_mapping     = train_labels,\n",
    "            test_input_directory    = test_dir,\n",
    "            test_output_directory   = emb_dir,\n",
    "            method                  = 'nf-original',\n",
    "            n_epochs                = 10,\n",
    "            train                   = True)"
   ]
  },
  {
   "cell_type": "code",
   "execution_count": null,
   "metadata": {
    "collapsed": true
   },
   "outputs": [],
   "source": [
    "X = np.array([])\n",
    "y = []\n",
    "\n",
    "for i, key in enumerate(e2_fingerprint_embeddings.keys()):\n",
    "    if i == 0:\n",
    "        X = np.hstack((X, e2_fingerprint_embeddings[key]))\n",
    "    else:\n",
    "        X = np.vstack((X, e2_fingerprint_embeddings[key]))\n",
    "    y.append(0 if int(key) < 500 else 1)"
   ]
  },
  {
   "cell_type": "code",
   "execution_count": null,
   "metadata": {
    "collapsed": false
   },
   "outputs": [],
   "source": [
    "tsne = manifold.TSNE(n_components=2, init='pca', random_state=0, perplexity=200, n_iter=3000, verbose=2)\n",
    "X_tsne = tsne.fit_transform(X)\n",
    "plot_embedding(X_tsne, y, \"t-SNE embedding\")"
   ]
  },
  {
   "cell_type": "markdown",
   "metadata": {},
   "source": [
    "# Experiment 3: 500 Identical Cycle Graphs, 500 Different BA Graphs"
   ]
  },
  {
   "cell_type": "code",
   "execution_count": null,
   "metadata": {
    "collapsed": false
   },
   "outputs": [],
   "source": [
    "circle_graphs = []\n",
    "G = nx.cycle_graph(50)\n",
    "for i in tqdm(xrange(500)):\n",
    "    save_graph(G, str(i) + '.edgelist', train_dir if i < 400 else test_dir)\n",
    "    if i < 400:\n",
    "        train_labels[str(i) + '.edgelist'] = 0\n",
    "    circle_graphs.append(G)\n",
    "    \n",
    "ba_graphs = []\n",
    "for i in tqdm(xrange(500)):\n",
    "    G = nx.barabasi_albert_graph(50, 5)\n",
    "    save_graph(G, str(i + 500) + '.edgelist', train_dir if (i + 500) < 900 else test_dir)\n",
    "    if (i + 500) < 900:\n",
    "        train_labels[str(i + 500) + '.edgelist'] = 1\n",
    "    ba_graphs.append(G)"
   ]
  },
  {
   "cell_type": "code",
   "execution_count": null,
   "metadata": {
    "collapsed": false
   },
   "outputs": [],
   "source": [
    "e3_fingerprint_embeddings = \\\n",
    "    embed(train_input_directory     = train_dir,\n",
    "            train_label_mapping     = train_labels,\n",
    "            test_input_directory    = test_dir,\n",
    "            test_output_directory   = emb_dir,\n",
    "            method                  = 'nf-original',\n",
    "            n_epochs                = 5,\n",
    "            train                   = True)"
   ]
  },
  {
   "cell_type": "code",
   "execution_count": null,
   "metadata": {
    "collapsed": true
   },
   "outputs": [],
   "source": [
    "X = np.array([])\n",
    "y = []\n",
    "\n",
    "for i, key in enumerate(e3_fingerprint_embeddings.keys()):\n",
    "    if i == 0:\n",
    "        X = np.hstack((X, e3_fingerprint_embeddings[key]))\n",
    "    else:\n",
    "        X = np.vstack((X, e3_fingerprint_embeddings[key]))\n",
    "    y.append(0 if int(key) < 500 else 1)"
   ]
  },
  {
   "cell_type": "code",
   "execution_count": null,
   "metadata": {
    "collapsed": false
   },
   "outputs": [],
   "source": [
    "tsne = manifold.TSNE(n_components=2, init='pca', random_state=0, perplexity=200, n_iter=3000, verbose=2)\n",
    "X_tsne = tsne.fit_transform(X)\n",
    "plot_embedding(X_tsne, y, \"t-SNE embedding\")"
   ]
  },
  {
   "cell_type": "markdown",
   "metadata": {},
   "source": [
    "# Experiment 4: 500 Identical ER Graphs, 500 Identical BA Graphs"
   ]
  },
  {
   "cell_type": "code",
   "execution_count": null,
   "metadata": {
    "collapsed": false
   },
   "outputs": [],
   "source": [
    "er_graphs = []\n",
    "G = nx.erdos_renyi_graph(50, 0.2)\n",
    "for i in tqdm(xrange(500)):\n",
    "    save_graph(G, str(i) + '.edgelist', train_dir if i < 400 else test_dir)\n",
    "    if i < 400:\n",
    "        train_labels[str(i) + '.edgelist'] = 0\n",
    "    er_graphs.append(G)\n",
    "    \n",
    "ba_graphs = []\n",
    "G = nx.barabasi_albert_graph(50, 5)\n",
    "for i in tqdm(xrange(500)):\n",
    "    save_graph(G, str(i + 500) + '.edgelist', train_dir if (i + 500) < 900 else test_dir)\n",
    "    if (i + 500) < 900:\n",
    "        train_labels[str(i + 500) + '.edgelist'] = 1\n",
    "    ba_graphs.append(G)"
   ]
  },
  {
   "cell_type": "code",
   "execution_count": null,
   "metadata": {
    "collapsed": false
   },
   "outputs": [],
   "source": [
    "e4_fingerprint_embeddings = \\\n",
    "    embed(train_input_directory     = train_dir,\n",
    "            train_label_mapping     = train_labels,\n",
    "            test_input_directory    = test_dir,\n",
    "            test_output_directory   = emb_dir,\n",
    "            method                  = 'nf-original',\n",
    "            n_epochs                = 30,\n",
    "            train                   = True)"
   ]
  },
  {
   "cell_type": "code",
   "execution_count": null,
   "metadata": {
    "collapsed": true
   },
   "outputs": [],
   "source": [
    "X = np.array([])\n",
    "y = []\n",
    "\n",
    "for i, key in enumerate(e4_fingerprint_embeddings.keys()):\n",
    "    if i == 0:\n",
    "        X = np.hstack((X, e4_fingerprint_embeddings[key]))\n",
    "    else:\n",
    "        X = np.vstack((X, e4_fingerprint_embeddings[key]))\n",
    "    y.append(0 if int(key) < 500 else 1)"
   ]
  },
  {
   "cell_type": "code",
   "execution_count": null,
   "metadata": {
    "collapsed": false
   },
   "outputs": [],
   "source": [
    "tsne = manifold.TSNE(n_components=2, init='pca', random_state=0, perplexity=200, n_iter=3000, verbose=2)\n",
    "X_tsne = tsne.fit_transform(X)\n",
    "plot_embedding(X_tsne, y, \"t-SNE embedding\")"
   ]
  }
 ],
 "metadata": {
  "kernelspec": {
   "display_name": "Python 2",
   "language": "python",
   "name": "python2"
  },
  "language_info": {
   "codemirror_mode": {
    "name": "ipython",
    "version": 2
   },
   "file_extension": ".py",
   "mimetype": "text/x-python",
   "name": "python",
   "nbconvert_exporter": "python",
   "pygments_lexer": "ipython2",
   "version": "2.7.13"
  }
 },
 "nbformat": 4,
 "nbformat_minor": 0
}
