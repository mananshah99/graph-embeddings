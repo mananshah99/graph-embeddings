{
 "cells": [
  {
   "cell_type": "code",
   "execution_count": 1,
   "metadata": {
    "collapsed": true
   },
   "outputs": [],
   "source": [
    "import os, sys\n",
    "import networkx as nx\n",
    "\n",
    "os.chdir('..')\n",
    "sys.path.append(\"../embed\")\n",
    "from embed import embed\n",
    "\n",
    "%matplotlib inline\n",
    "\n",
    "import matplotlib\n",
    "import numpy as np\n",
    "import matplotlib.pyplot as plt\n",
    "from matplotlib.ticker import NullFormatter\n",
    "from sklearn import manifold, datasets\n",
    "from sklearn.cluster import KMeans\n",
    "from sklearn import metrics\n",
    "\n",
    "from time import time\n",
    "from tqdm import tqdm\n",
    "\n",
    "train_dir = '/dfs/scratch0/manans/nf-exp/train'\n",
    "train_labels = {}\n",
    "test_dir  = '/dfs/scratch0/manans/nf-exp/test'\n",
    "emb_dir   = '/dfs/scratch0/manans/nf-exp/emb'"
   ]
  },
  {
   "cell_type": "code",
   "execution_count": 33,
   "metadata": {
    "collapsed": true
   },
   "outputs": [],
   "source": [
    "import random\n",
    "def add_and_remove_edges(G, p_new_connection, p_remove_connection):    \n",
    "    '''    \n",
    "    for each node,    \n",
    "      add a new connection to random other node, with prob p_new_connection,    \n",
    "      remove a connection, with prob p_remove_connection    \n",
    "\n",
    "    operates on G in-place    \n",
    "    '''                \n",
    "    new_edges = []    \n",
    "    rem_edges = []    \n",
    "\n",
    "    for node in G.nodes():    \n",
    "        # find the other nodes this one is connected to    \n",
    "        connected = [to for (fr, to) in G.edges(node)]    \n",
    "        # and find the remainder of nodes, which are candidates for new edges   \n",
    "        unconnected = [n for n in G.nodes() if not n in connected]    \n",
    "\n",
    "        # probabilistically add a random edge    \n",
    "        if len(unconnected): # only try if new edge is possible    \n",
    "            if random.random() < p_new_connection:    \n",
    "                new = random.choice(unconnected)    \n",
    "                G.add_edge(node, new)    \n",
    "                #print \"\\tnew edge:\\t {} -- {}\".format(node, new)    \n",
    "                new_edges.append( (node, new) )    \n",
    "                # book-keeping, in case both add and remove done in same cycle  \n",
    "                unconnected.remove(new)    \n",
    "                connected.append(new)    \n",
    "\n",
    "        # probabilistically remove a random edge    \n",
    "        if len(connected): # only try if an edge exists to remove    \n",
    "            if random.random() < p_remove_connection:    \n",
    "                remove = random.choice(connected)    \n",
    "                G.remove_edge(node, remove)    \n",
    "                #print \"\\tedge removed:\\t {} -- {}\".format(node, remove)    \n",
    "                rem_edges.append( (node, remove) )    \n",
    "                # book-keeping, in case lists are important later?    \n",
    "                connected.remove(remove)    \n",
    "                unconnected.append(remove)    \n",
    "    return rem_edges, new_edges    \n",
    "\n",
    "def save_graph(G, name, directory):\n",
    "    nx.write_edgelist(G, directory + \"/\" + name)\n",
    "    \n",
    "def plot_embedding(X, y, title=None):\n",
    "    x_min, x_max = np.min(X, 0), np.max(X, 0)\n",
    "    X = (X - x_min) / (x_max - x_min)\n",
    "\n",
    "    fig = plt.figure()\n",
    "    for i in range(X.shape[0]):\n",
    "        if y[i] == 0:\n",
    "            clr = 'b'\n",
    "        elif y[i] == 1:\n",
    "            clr = 'r'\n",
    "        point = plt.plot(X[i, 0], X[i, 1], color=clr, marker='o')\n",
    "\n",
    "    plt.xticks([]), plt.yticks([])\n",
    "    if title is not None:\n",
    "        plt.title(title)\n",
    "\n",
    "def evaluate(embeddings, labels):\n",
    "    estimator  = KMeans(n_clusters = 2).fit(embeddings)\n",
    "    AMI = metrics.adjusted_mutual_info_score(labels,  estimator.labels_)\n",
    "    ARI = metrics.adjusted_rand_score(labels, estimator.labels_)\n",
    "    return AMI, ARI"
   ]
  },
  {
   "cell_type": "markdown",
   "metadata": {},
   "source": [
    "## Stage 1 (Identical Cycle / Different BA)"
   ]
  },
  {
   "cell_type": "code",
   "execution_count": 10,
   "metadata": {
    "collapsed": false
   },
   "outputs": [
    {
     "name": "stderr",
     "output_type": "stream",
     "text": [
      "100%|██████████| 500/500 [00:13<00:00, 38.36it/s]\n",
      "100%|██████████| 500/500 [00:16<00:00, 30.96it/s]\n"
     ]
    }
   ],
   "source": [
    "circle_graphs = []\n",
    "G = nx.cycle_graph(50)\n",
    "for i in tqdm(xrange(500)):\n",
    "    save_graph(G, str(i) + '.edgelist', train_dir if i < 400 else test_dir)\n",
    "    if i < 400:\n",
    "        train_labels[str(i) + '.edgelist'] = 0\n",
    "    circle_graphs.append(G)\n",
    "    \n",
    "ba_graphs = []\n",
    "for i in tqdm(xrange(500)):\n",
    "    G = nx.barabasi_albert_graph(50, 5)\n",
    "    save_graph(G, str(i + 500) + '.edgelist', train_dir if (i + 500) < 900 else test_dir)\n",
    "    if (i + 500) < 900:\n",
    "        train_labels[str(i + 500) + '.edgelist'] = 1\n",
    "    ba_graphs.append(G)"
   ]
  },
  {
   "cell_type": "code",
   "execution_count": 11,
   "metadata": {
    "collapsed": false
   },
   "outputs": [
    {
     "name": "stdout",
     "output_type": "stream",
     "text": [
      "Loading data...\n",
      "Regression on 560 training points.\n",
      "--------------------------------------------------------------------------------\n",
      "Mean predictor\n",
      "\n",
      "Performance (RMSE) on label:\n",
      "Train: 0.499971300197\n",
      "Test:  0.499894759333\n",
      "--------------------------------------------------------------------------------\n",
      "Task params {'learn_rate': 0.00012340980408667956, 'fp_depth': 3, 'b1': 0.018315638888734179, 'b2': 0.018315638888734179, 'init_scale': 0.018315638888734179, 'fp_length': 50, 'l2_penalty': 0.018315638888734179, 'l1_penalty': 0.006737946999085467, 'conv_width': 10}\n",
      "Total number of weights in the network: 11701\n",
      "N_ITER 2\n",
      "Iteration 0 loss 3.68668922424 train RMSE 0.959964302306 Validation RMSE 0 : 0.961395804213 \n",
      "\t Learning rate is constant => 0.000123409804087\n",
      "Iteration 1 loss 3.06915335068 train RMSE 0.87587970648 Validation RMSE 1 : 0.876609919686 \n",
      "\t Learning rate is constant => 0.000123409804087\n",
      "\n",
      "Performance (RMSE) on label:"
     ]
    },
    {
     "name": "stderr",
     "output_type": "stream",
     "text": [
      "100%|██████████| 200/200 [00:19<00:00, 10.07it/s]"
     ]
    },
    {
     "name": "stdout",
     "output_type": "stream",
     "text": [
      "\n",
      "Train: 0.794171760252\n",
      "Test:  0.794196848896\n",
      "--------------------------------------------------------------------------------\n"
     ]
    },
    {
     "name": "stderr",
     "output_type": "stream",
     "text": [
      "\n"
     ]
    }
   ],
   "source": [
    "s1_emb = \\\n",
    "    embed(train_input_directory     = train_dir,\n",
    "            train_label_mapping     = train_labels,\n",
    "            test_input_directory    = test_dir,\n",
    "            test_output_directory   = emb_dir,\n",
    "            method                  = 'nf-original',\n",
    "            n_epochs                = 2,\n",
    "            train                   = True)"
   ]
  },
  {
   "cell_type": "code",
   "execution_count": 34,
   "metadata": {
    "collapsed": false
   },
   "outputs": [
    {
     "name": "stdout",
     "output_type": "stream",
     "text": [
      "(1.0, 1.0)\n"
     ]
    }
   ],
   "source": [
    "X = np.array([])\n",
    "y = []\n",
    "\n",
    "for i, key in enumerate(s1_emb.keys()):\n",
    "    if i == 0:\n",
    "        X = np.hstack((X, s1_emb[key]))\n",
    "    else:\n",
    "        X = np.vstack((X, s1_emb[key]))\n",
    "    y.append(0 if int(key) < 500 else 1)\n",
    "\n",
    "print evaluate(X, y)"
   ]
  },
  {
   "cell_type": "markdown",
   "metadata": {},
   "source": [
    "## Stage 2 (Different Cycle / Different BA)"
   ]
  },
  {
   "cell_type": "code",
   "execution_count": 63,
   "metadata": {
    "collapsed": false
   },
   "outputs": [
    {
     "name": "stderr",
     "output_type": "stream",
     "text": [
      "100%|██████████| 500/500 [00:13<00:00, 36.83it/s]\n",
      "100%|██████████| 500/500 [00:17<00:00, 28.32it/s]\n"
     ]
    }
   ],
   "source": [
    "circle_graphs = []\n",
    "for i in tqdm(xrange(500)):\n",
    "    G = nx.cycle_graph(np.random.randint(30, 100))\n",
    "    save_graph(G, str(i) + '.edgelist', train_dir if i < 400 else test_dir)\n",
    "    if i < 400:\n",
    "        train_labels[str(i) + '.edgelist'] = 0\n",
    "    circle_graphs.append(G)\n",
    "    \n",
    "ba_graphs = []\n",
    "for i in tqdm(xrange(500)):\n",
    "    G = nx.barabasi_albert_graph(50, 5)\n",
    "    save_graph(G, str(i + 500) + '.edgelist', train_dir if (i + 500) < 900 else test_dir)\n",
    "    if (i + 500) < 900:\n",
    "        train_labels[str(i + 500) + '.edgelist'] = 1\n",
    "    ba_graphs.append(G)"
   ]
  },
  {
   "cell_type": "code",
   "execution_count": 64,
   "metadata": {
    "collapsed": false
   },
   "outputs": [
    {
     "name": "stdout",
     "output_type": "stream",
     "text": [
      "Loading data...\n",
      "Regression on 560 training points.\n",
      "--------------------------------------------------------------------------------\n",
      "Mean predictor\n",
      "\n",
      "Performance (RMSE) on label:\n",
      "Train: 0.499971300197\n",
      "Test:  0.499894759333\n",
      "--------------------------------------------------------------------------------\n",
      "Task params {'learn_rate': 0.00012340980408667956, 'fp_depth': 3, 'b1': 0.018315638888734179, 'b2': 0.018315638888734179, 'init_scale': 0.018315638888734179, 'fp_length': 50, 'l2_penalty': 0.018315638888734179, 'l1_penalty': 0.006737946999085467, 'conv_width': 10}\n",
      "Total number of weights in the network: 11701\n",
      "N_ITER 2\n",
      "Iteration 0 loss 4.0706478369 train RMSE 1.0087170543 Validation RMSE 0 : 1.01970740255 \n",
      "\t Learning rate is constant => 0.000123409804087\n",
      "Iteration 1 loss 3.40637302716 train RMSE 0.92274617392 Validation RMSE 1 : 0.932717523267 \n",
      "\t Learning rate is constant => 0.000123409804087\n",
      "\n",
      "Performance (RMSE) on label:"
     ]
    },
    {
     "name": "stderr",
     "output_type": "stream",
     "text": [
      "100%|██████████| 200/200 [00:20<00:00,  9.84it/s]"
     ]
    },
    {
     "name": "stdout",
     "output_type": "stream",
     "text": [
      "\n",
      "Train: 0.839048257107\n",
      "Test:  0.847977112451\n",
      "--------------------------------------------------------------------------------\n"
     ]
    },
    {
     "name": "stderr",
     "output_type": "stream",
     "text": [
      "\n"
     ]
    }
   ],
   "source": [
    "s2_emb = \\\n",
    "    embed(train_input_directory     = train_dir,\n",
    "            train_label_mapping     = train_labels,\n",
    "            test_input_directory    = test_dir,\n",
    "            test_output_directory   = emb_dir,\n",
    "            method                  = 'nf-original',\n",
    "            n_epochs                = 2,\n",
    "            train                   = True)"
   ]
  },
  {
   "cell_type": "code",
   "execution_count": 65,
   "metadata": {
    "collapsed": false
   },
   "outputs": [
    {
     "name": "stdout",
     "output_type": "stream",
     "text": [
      "(1.0, 1.0)\n"
     ]
    }
   ],
   "source": [
    "X = np.array([])\n",
    "y = []\n",
    "\n",
    "for i, key in enumerate(s2_emb.keys()):\n",
    "    if i == 0:\n",
    "        X = np.hstack((X, s2_emb[key]))\n",
    "    else:\n",
    "        X = np.vstack((X, s2_emb[key]))\n",
    "    y.append(0 if int(key) < 500 else 1)\n",
    "\n",
    "print evaluate(X, y)"
   ]
  },
  {
   "cell_type": "markdown",
   "metadata": {},
   "source": [
    "## Stage 3 (10% Cross Links)"
   ]
  },
  {
   "cell_type": "code",
   "execution_count": 66,
   "metadata": {
    "collapsed": false
   },
   "outputs": [
    {
     "name": "stderr",
     "output_type": "stream",
     "text": [
      "100%|██████████| 500/500 [00:15<00:00, 32.15it/s]\n",
      "100%|██████████| 500/500 [00:16<00:00, 29.44it/s]\n"
     ]
    }
   ],
   "source": [
    "p_new_connection = 0.1\n",
    "\n",
    "circle_graphs = []\n",
    "for i in tqdm(xrange(500)):\n",
    "    G = nx.cycle_graph(np.random.randint(30, 100))\n",
    "    add_and_remove_edges(G, p_new_connection, 0)\n",
    "    save_graph(G, str(i) + '.edgelist', train_dir if i < 400 else test_dir)\n",
    "    if i < 400:\n",
    "        train_labels[str(i) + '.edgelist'] = 0\n",
    "    circle_graphs.append(G)\n",
    "    \n",
    "ba_graphs = []\n",
    "for i in tqdm(xrange(500)):\n",
    "    G = nx.barabasi_albert_graph(50, 5)\n",
    "    save_graph(G, str(i + 500) + '.edgelist', train_dir if (i + 500) < 900 else test_dir)\n",
    "    if (i + 500) < 900:\n",
    "        train_labels[str(i + 500) + '.edgelist'] = 1\n",
    "    ba_graphs.append(G)"
   ]
  },
  {
   "cell_type": "code",
   "execution_count": 67,
   "metadata": {
    "collapsed": false
   },
   "outputs": [
    {
     "name": "stdout",
     "output_type": "stream",
     "text": [
      "Loading data...\n",
      "Regression on 560 training points.\n",
      "--------------------------------------------------------------------------------\n",
      "Mean predictor\n",
      "\n",
      "Performance (RMSE) on label:\n",
      "Train: 0.499971300197\n",
      "Test:  0.499894759333\n",
      "--------------------------------------------------------------------------------\n",
      "Task params {'learn_rate': 0.00012340980408667956, 'fp_depth': 3, 'b1': 0.018315638888734179, 'b2': 0.018315638888734179, 'init_scale': 0.018315638888734179, 'fp_length': 50, 'l2_penalty': 0.018315638888734179, 'l1_penalty': 0.006737946999085467, 'conv_width': 10}\n",
      "Total number of weights in the network: 11701\n",
      "N_ITER 2\n",
      "Iteration 0 loss 4.2474016035 train RMSE 1.03038510502 Validation RMSE 0 : 1.042208581 \n",
      "\t Learning rate is constant => 0.000123409804087\n",
      "Iteration 1 loss 3.56175622592 train RMSE 0.943558075496 Validation RMSE 1 : 0.954259963376 \n",
      "\t Learning rate is constant => 0.000123409804087\n",
      "\n",
      "Performance (RMSE) on label:"
     ]
    },
    {
     "name": "stderr",
     "output_type": "stream",
     "text": [
      "100%|██████████| 200/200 [00:20<00:00,  9.97it/s]"
     ]
    },
    {
     "name": "stdout",
     "output_type": "stream",
     "text": [
      "\n",
      "Train: 0.858942078513\n",
      "Test:  0.868497058291\n",
      "--------------------------------------------------------------------------------\n"
     ]
    },
    {
     "name": "stderr",
     "output_type": "stream",
     "text": [
      "\n"
     ]
    }
   ],
   "source": [
    "s3_emb = \\\n",
    "    embed(train_input_directory     = train_dir,\n",
    "            train_label_mapping     = train_labels,\n",
    "            test_input_directory    = test_dir,\n",
    "            test_output_directory   = emb_dir,\n",
    "            method                  = 'nf-original',\n",
    "            n_epochs                = 2,\n",
    "            train                   = True)"
   ]
  },
  {
   "cell_type": "code",
   "execution_count": 68,
   "metadata": {
    "collapsed": false
   },
   "outputs": [
    {
     "name": "stdout",
     "output_type": "stream",
     "text": [
      "(1.0, 1.0)\n"
     ]
    }
   ],
   "source": [
    "X = np.array([])\n",
    "y = []\n",
    "\n",
    "for i, key in enumerate(s3_emb.keys()):\n",
    "    if i == 0:\n",
    "        X = np.hstack((X, s3_emb[key]))\n",
    "    else:\n",
    "        X = np.vstack((X, s3_emb[key]))\n",
    "    y.append(0 if int(key) < 500 else 1)\n",
    "\n",
    "print evaluate(X, y)"
   ]
  },
  {
   "cell_type": "markdown",
   "metadata": {},
   "source": [
    "## Stage 4 (30% Cross Links)"
   ]
  },
  {
   "cell_type": "code",
   "execution_count": 69,
   "metadata": {
    "collapsed": false
   },
   "outputs": [
    {
     "name": "stderr",
     "output_type": "stream",
     "text": [
      "100%|██████████| 500/500 [00:15<00:00, 31.40it/s]\n",
      "100%|██████████| 500/500 [00:16<00:00, 31.52it/s]\n"
     ]
    }
   ],
   "source": [
    "p_new_connection = 0.3\n",
    "\n",
    "circle_graphs = []\n",
    "for i in tqdm(xrange(500)):\n",
    "    G = nx.cycle_graph(np.random.randint(30, 100))\n",
    "    add_and_remove_edges(G, p_new_connection, 0)\n",
    "    save_graph(G, str(i) + '.edgelist', train_dir if i < 400 else test_dir)\n",
    "    if i < 400:\n",
    "        train_labels[str(i) + '.edgelist'] = 0\n",
    "    circle_graphs.append(G)\n",
    "    \n",
    "ba_graphs = []\n",
    "for i in tqdm(xrange(500)):\n",
    "    G = nx.barabasi_albert_graph(50, 5)\n",
    "    save_graph(G, str(i + 500) + '.edgelist', train_dir if (i + 500) < 900 else test_dir)\n",
    "    if (i + 500) < 900:\n",
    "        train_labels[str(i + 500) + '.edgelist'] = 1\n",
    "    ba_graphs.append(G)"
   ]
  },
  {
   "cell_type": "code",
   "execution_count": 70,
   "metadata": {
    "collapsed": false
   },
   "outputs": [
    {
     "name": "stdout",
     "output_type": "stream",
     "text": [
      "Loading data...\n",
      "Regression on 560 training points.\n",
      "--------------------------------------------------------------------------------\n",
      "Mean predictor\n",
      "\n",
      "Performance (RMSE) on label:\n",
      "Train: 0.499971300197\n",
      "Test:  0.499894759333\n",
      "--------------------------------------------------------------------------------\n",
      "Task params {'learn_rate': 0.00012340980408667956, 'fp_depth': 3, 'b1': 0.018315638888734179, 'b2': 0.018315638888734179, 'init_scale': 0.018315638888734179, 'fp_length': 50, 'l2_penalty': 0.018315638888734179, 'l1_penalty': 0.006737946999085467, 'conv_width': 10}\n",
      "Total number of weights in the network: 11701\n",
      "N_ITER 2\n",
      "Iteration 0 loss 4.61183969308 train RMSE 1.07368176292 Validation RMSE 0 : 1.07069945085 \n",
      "\t Learning rate is constant => 0.000123409804087\n",
      "Iteration 1 loss 3.88061608863 train RMSE 0.984889667201 Validation RMSE 1 : 0.98145645047 \n",
      "\t Learning rate is constant => 0.000123409804087\n",
      "\n",
      "Performance (RMSE) on label:"
     ]
    },
    {
     "name": "stderr",
     "output_type": "stream",
     "text": [
      "100%|██████████| 200/200 [00:21<00:00, 35.99it/s]"
     ]
    },
    {
     "name": "stdout",
     "output_type": "stream",
     "text": [
      "\n",
      "Train: 0.898203422223\n",
      "Test:  0.894329700399\n",
      "--------------------------------------------------------------------------------\n"
     ]
    },
    {
     "name": "stderr",
     "output_type": "stream",
     "text": [
      "\n"
     ]
    }
   ],
   "source": [
    "s4_emb = \\\n",
    "    embed(train_input_directory     = train_dir,\n",
    "            train_label_mapping     = train_labels,\n",
    "            test_input_directory    = test_dir,\n",
    "            test_output_directory   = emb_dir,\n",
    "            method                  = 'nf-original',\n",
    "            n_epochs                = 2,\n",
    "            train                   = True)"
   ]
  },
  {
   "cell_type": "code",
   "execution_count": 71,
   "metadata": {
    "collapsed": false
   },
   "outputs": [
    {
     "name": "stdout",
     "output_type": "stream",
     "text": [
      "(1.0, 1.0)\n"
     ]
    }
   ],
   "source": [
    "X = np.array([])\n",
    "y = []\n",
    "\n",
    "for i, key in enumerate(s4_emb.keys()):\n",
    "    if i == 0:\n",
    "        X = np.hstack((X, s4_emb[key]))\n",
    "    else:\n",
    "        X = np.vstack((X, s4_emb[key]))\n",
    "    y.append(0 if int(key) < 500 else 1)\n",
    "\n",
    "print evaluate(X, y)"
   ]
  },
  {
   "cell_type": "markdown",
   "metadata": {},
   "source": [
    "## Stage 5 (50% Cross Links)"
   ]
  },
  {
   "cell_type": "code",
   "execution_count": 72,
   "metadata": {
    "collapsed": false
   },
   "outputs": [
    {
     "name": "stderr",
     "output_type": "stream",
     "text": [
      "100%|██████████| 500/500 [00:16<00:00, 30.97it/s]\n",
      "100%|██████████| 500/500 [00:17<00:00, 29.23it/s]\n"
     ]
    }
   ],
   "source": [
    "p_new_connection = 0.5\n",
    "\n",
    "circle_graphs = []\n",
    "for i in tqdm(xrange(500)):\n",
    "    G = nx.cycle_graph(np.random.randint(30, 100))\n",
    "    add_and_remove_edges(G, p_new_connection, 0)\n",
    "    save_graph(G, str(i) + '.edgelist', train_dir if i < 400 else test_dir)\n",
    "    if i < 400:\n",
    "        train_labels[str(i) + '.edgelist'] = 0\n",
    "    circle_graphs.append(G)\n",
    "    \n",
    "ba_graphs = []\n",
    "for i in tqdm(xrange(500)):\n",
    "    G = nx.barabasi_albert_graph(50, 5)\n",
    "    save_graph(G, str(i + 500) + '.edgelist', train_dir if (i + 500) < 900 else test_dir)\n",
    "    if (i + 500) < 900:\n",
    "        train_labels[str(i + 500) + '.edgelist'] = 1\n",
    "    ba_graphs.append(G)"
   ]
  },
  {
   "cell_type": "code",
   "execution_count": 73,
   "metadata": {
    "collapsed": false
   },
   "outputs": [
    {
     "name": "stdout",
     "output_type": "stream",
     "text": [
      "Loading data...\n",
      "Regression on 560 training points.\n",
      "--------------------------------------------------------------------------------\n",
      "Mean predictor\n",
      "\n",
      "Performance (RMSE) on label:\n",
      "Train: 0.499971300197\n",
      "Test:  0.499894759333\n",
      "--------------------------------------------------------------------------------\n",
      "Task params {'learn_rate': 0.00012340980408667956, 'fp_depth': 3, 'b1': 0.018315638888734179, 'b2': 0.018315638888734179, 'init_scale': 0.018315638888734179, 'fp_length': 50, 'l2_penalty': 0.018315638888734179, 'l1_penalty': 0.006737946999085467, 'conv_width': 10}\n",
      "Total number of weights in the network: 11701\n",
      "N_ITER 2\n",
      "Iteration 0 loss 5.01638431384 train RMSE 1.11978438693 Validation RMSE 0 : 1.12718094449 \n",
      "\t Learning rate is constant => 0.000123409804087\n",
      "Iteration 1 loss 4.23343674011 train RMSE 1.02868979476 Validation RMSE 1 : 1.03524734123 \n",
      "\t Learning rate is constant => 0.000123409804087\n",
      "\n",
      "Performance (RMSE) on label:"
     ]
    },
    {
     "name": "stderr",
     "output_type": "stream",
     "text": [
      "100%|██████████| 200/200 [00:21<00:00,  9.12it/s]"
     ]
    },
    {
     "name": "stdout",
     "output_type": "stream",
     "text": [
      "\n",
      "Train: 0.939614211544\n",
      "Test:  0.945323147579\n",
      "--------------------------------------------------------------------------------\n"
     ]
    },
    {
     "name": "stderr",
     "output_type": "stream",
     "text": [
      "\n"
     ]
    }
   ],
   "source": [
    "s5_emb = \\\n",
    "    embed(train_input_directory     = train_dir,\n",
    "            train_label_mapping     = train_labels,\n",
    "            test_input_directory    = test_dir,\n",
    "            test_output_directory   = emb_dir,\n",
    "            method                  = 'nf-original',\n",
    "            n_epochs                = 2,\n",
    "            train                   = True)"
   ]
  },
  {
   "cell_type": "code",
   "execution_count": 74,
   "metadata": {
    "collapsed": false
   },
   "outputs": [
    {
     "name": "stdout",
     "output_type": "stream",
     "text": [
      "(1.0, 1.0)\n"
     ]
    }
   ],
   "source": [
    "X = np.array([])\n",
    "y = []\n",
    "\n",
    "for i, key in enumerate(s5_emb.keys()):\n",
    "    if i == 0:\n",
    "        X = np.hstack((X, s5_emb[key]))\n",
    "    else:\n",
    "        X = np.vstack((X, s5_emb[key]))\n",
    "    y.append(0 if int(key) < 500 else 1)\n",
    "\n",
    "print evaluate(X, y)"
   ]
  },
  {
   "cell_type": "markdown",
   "metadata": {},
   "source": [
    "## Stage 6 (70% Cross Links)"
   ]
  },
  {
   "cell_type": "code",
   "execution_count": 75,
   "metadata": {
    "collapsed": false
   },
   "outputs": [
    {
     "name": "stderr",
     "output_type": "stream",
     "text": [
      "100%|██████████| 500/500 [00:17<00:00, 29.31it/s]\n",
      "100%|██████████| 500/500 [00:17<00:00, 28.73it/s]\n"
     ]
    }
   ],
   "source": [
    "p_new_connection = 0.7\n",
    "\n",
    "circle_graphs = []\n",
    "for i in tqdm(xrange(500)):\n",
    "    G = nx.cycle_graph(np.random.randint(30, 100))\n",
    "    add_and_remove_edges(G, p_new_connection, 0)\n",
    "    save_graph(G, str(i) + '.edgelist', train_dir if i < 400 else test_dir)\n",
    "    if i < 400:\n",
    "        train_labels[str(i) + '.edgelist'] = 0\n",
    "    circle_graphs.append(G)\n",
    "    \n",
    "ba_graphs = []\n",
    "for i in tqdm(xrange(500)):\n",
    "    G = nx.barabasi_albert_graph(50, 5)\n",
    "    save_graph(G, str(i + 500) + '.edgelist', train_dir if (i + 500) < 900 else test_dir)\n",
    "    if (i + 500) < 900:\n",
    "        train_labels[str(i + 500) + '.edgelist'] = 1\n",
    "    ba_graphs.append(G)"
   ]
  },
  {
   "cell_type": "code",
   "execution_count": 76,
   "metadata": {
    "collapsed": false
   },
   "outputs": [
    {
     "name": "stdout",
     "output_type": "stream",
     "text": [
      "Loading data...\n",
      "Regression on 560 training points.\n",
      "--------------------------------------------------------------------------------\n",
      "Mean predictor\n",
      "\n",
      "Performance (RMSE) on label:\n",
      "Train: 0.499971300197\n",
      "Test:  0.499894759333\n",
      "--------------------------------------------------------------------------------\n",
      "Task params {'learn_rate': 0.00012340980408667956, 'fp_depth': 3, 'b1': 0.018315638888734179, 'b2': 0.018315638888734179, 'init_scale': 0.018315638888734179, 'fp_length': 50, 'l2_penalty': 0.018315638888734179, 'l1_penalty': 0.006737946999085467, 'conv_width': 10}\n",
      "Total number of weights in the network: 11701\n",
      "N_ITER 2\n",
      "Iteration 0 loss 5.48201223689 train RMSE 1.17060270413 Validation RMSE 0 : 1.17259090825 \n",
      "\t Learning rate is constant => 0.000123409804087\n",
      "Iteration 1 loss 4.63852920927 train RMSE 1.07678418701 Validation RMSE 1 : 1.07808276855 \n",
      "\t Learning rate is constant => 0.000123409804087\n",
      "\n",
      "Performance (RMSE) on label:"
     ]
    },
    {
     "name": "stderr",
     "output_type": "stream",
     "text": [
      "100%|██████████| 200/200 [00:23<00:00,  8.65it/s]"
     ]
    },
    {
     "name": "stdout",
     "output_type": "stream",
     "text": [
      "\n",
      "Train: 0.984866609671\n",
      "Test:  0.98548140079\n",
      "--------------------------------------------------------------------------------\n"
     ]
    },
    {
     "name": "stderr",
     "output_type": "stream",
     "text": [
      "\n"
     ]
    }
   ],
   "source": [
    "s6_emb = \\\n",
    "    embed(train_input_directory     = train_dir,\n",
    "            train_label_mapping     = train_labels,\n",
    "            test_input_directory    = test_dir,\n",
    "            test_output_directory   = emb_dir,\n",
    "            method                  = 'nf-original',\n",
    "            n_epochs                = 2,\n",
    "            train                   = True)"
   ]
  },
  {
   "cell_type": "code",
   "execution_count": 77,
   "metadata": {
    "collapsed": false
   },
   "outputs": [
    {
     "name": "stdout",
     "output_type": "stream",
     "text": [
      "(0.95938369500356069, 0.97999950505075506)\n"
     ]
    }
   ],
   "source": [
    "X = np.array([])\n",
    "y = []\n",
    "\n",
    "for i, key in enumerate(s6_emb.keys()):\n",
    "    if i == 0:\n",
    "        X = np.hstack((X, s6_emb[key]))\n",
    "    else:\n",
    "        X = np.vstack((X, s6_emb[key]))\n",
    "    y.append(0 if int(key) < 500 else 1)\n",
    "\n",
    "print evaluate(X, y)"
   ]
  },
  {
   "cell_type": "markdown",
   "metadata": {},
   "source": [
    "## Stage 7 (90% Cross Links)"
   ]
  },
  {
   "cell_type": "code",
   "execution_count": 78,
   "metadata": {
    "collapsed": false
   },
   "outputs": [
    {
     "name": "stderr",
     "output_type": "stream",
     "text": [
      "100%|██████████| 500/500 [00:16<00:00, 29.87it/s]\n",
      "100%|██████████| 500/500 [00:16<00:00, 29.68it/s]\n"
     ]
    }
   ],
   "source": [
    "p_new_connection = 0.9\n",
    "\n",
    "circle_graphs = []\n",
    "for i in tqdm(xrange(500)):\n",
    "    G = nx.cycle_graph(np.random.randint(30, 100))\n",
    "    add_and_remove_edges(G, p_new_connection, 0)\n",
    "    save_graph(G, str(i) + '.edgelist', train_dir if i < 400 else test_dir)\n",
    "    if i < 400:\n",
    "        train_labels[str(i) + '.edgelist'] = 0\n",
    "    circle_graphs.append(G)\n",
    "    \n",
    "ba_graphs = []\n",
    "for i in tqdm(xrange(500)):\n",
    "    G = nx.barabasi_albert_graph(50, 5)\n",
    "    save_graph(G, str(i + 500) + '.edgelist', train_dir if (i + 500) < 900 else test_dir)\n",
    "    if (i + 500) < 900:\n",
    "        train_labels[str(i + 500) + '.edgelist'] = 1\n",
    "    ba_graphs.append(G)"
   ]
  },
  {
   "cell_type": "code",
   "execution_count": 79,
   "metadata": {
    "collapsed": false
   },
   "outputs": [
    {
     "name": "stdout",
     "output_type": "stream",
     "text": [
      "Loading data...\n",
      "Regression on 560 training points.\n",
      "--------------------------------------------------------------------------------\n",
      "Mean predictor\n",
      "\n",
      "Performance (RMSE) on label:\n",
      "Train: 0.499971300197\n",
      "Test:  0.499894759333\n",
      "--------------------------------------------------------------------------------\n",
      "Task params {'learn_rate': 0.00012340980408667956, 'fp_depth': 3, 'b1': 0.018315638888734179, 'b2': 0.018315638888734179, 'init_scale': 0.018315638888734179, 'fp_length': 50, 'l2_penalty': 0.018315638888734179, 'l1_penalty': 0.006737946999085467, 'conv_width': 10}\n",
      "Total number of weights in the network: 11701\n",
      "N_ITER 2\n",
      "Iteration 0 loss 6.02638002263 train RMSE 1.22734958938 Validation RMSE 0 : 1.20707995828 \n",
      "\t Learning rate is constant => 0.000123409804087\n",
      "Iteration 1 loss 5.11080636648 train RMSE 1.13027426796 Validation RMSE 1 : 1.11065005279 \n",
      "\t Learning rate is constant => 0.000123409804087\n",
      "\n",
      "Performance (RMSE) on label:"
     ]
    },
    {
     "name": "stderr",
     "output_type": "stream",
     "text": [
      "100%|██████████| 200/200 [00:23<00:00,  8.54it/s]"
     ]
    },
    {
     "name": "stdout",
     "output_type": "stream",
     "text": [
      "\n",
      "Train: 1.03499604114\n",
      "Test:  1.01606258304\n",
      "--------------------------------------------------------------------------------\n"
     ]
    },
    {
     "name": "stderr",
     "output_type": "stream",
     "text": [
      "\n"
     ]
    }
   ],
   "source": [
    "s7_emb = \\\n",
    "    embed(train_input_directory     = train_dir,\n",
    "            train_label_mapping     = train_labels,\n",
    "            test_input_directory    = test_dir,\n",
    "            test_output_directory   = emb_dir,\n",
    "            method                  = 'nf-original',\n",
    "            n_epochs                = 2,\n",
    "            train                   = True)"
   ]
  },
  {
   "cell_type": "code",
   "execution_count": 80,
   "metadata": {
    "collapsed": false
   },
   "outputs": [
    {
     "name": "stdout",
     "output_type": "stream",
     "text": [
      "(0.57093115357219149, 0.59095322512318682)\n"
     ]
    }
   ],
   "source": [
    "X = np.array([])\n",
    "y = []\n",
    "\n",
    "for i, key in enumerate(s7_emb.keys()):\n",
    "    if i == 0:\n",
    "        X = np.hstack((X, s7_emb[key]))\n",
    "    else:\n",
    "        X = np.vstack((X, s7_emb[key]))\n",
    "    y.append(0 if int(key) < 500 else 1)\n",
    "\n",
    "print evaluate(X, y)"
   ]
  },
  {
   "cell_type": "markdown",
   "metadata": {},
   "source": [
    "## Stage 8 (80% Cross Links)"
   ]
  },
  {
   "cell_type": "code",
   "execution_count": 85,
   "metadata": {
    "collapsed": false
   },
   "outputs": [
    {
     "name": "stderr",
     "output_type": "stream",
     "text": [
      "100%|██████████| 500/500 [00:17<00:00, 29.06it/s]\n",
      "100%|██████████| 500/500 [00:16<00:00, 31.98it/s]\n"
     ]
    }
   ],
   "source": [
    "p_new_connection = 0.8\n",
    "\n",
    "circle_graphs = []\n",
    "for i in tqdm(xrange(500)):\n",
    "    G = nx.cycle_graph(np.random.randint(30, 100))\n",
    "    add_and_remove_edges(G, p_new_connection, 0)\n",
    "    save_graph(G, str(i) + '.edgelist', train_dir if i < 400 else test_dir)\n",
    "    if i < 400:\n",
    "        train_labels[str(i) + '.edgelist'] = 0\n",
    "    circle_graphs.append(G)\n",
    "    \n",
    "ba_graphs = []\n",
    "for i in tqdm(xrange(500)):\n",
    "    G = nx.barabasi_albert_graph(50, 5)\n",
    "    save_graph(G, str(i + 500) + '.edgelist', train_dir if (i + 500) < 900 else test_dir)\n",
    "    if (i + 500) < 900:\n",
    "        train_labels[str(i + 500) + '.edgelist'] = 1\n",
    "    ba_graphs.append(G)"
   ]
  },
  {
   "cell_type": "code",
   "execution_count": 86,
   "metadata": {
    "collapsed": false
   },
   "outputs": [
    {
     "name": "stdout",
     "output_type": "stream",
     "text": [
      "Loading data...\n",
      "Regression on 560 training points.\n",
      "--------------------------------------------------------------------------------\n",
      "Mean predictor\n",
      "\n",
      "Performance (RMSE) on label:\n",
      "Train: 0.499971300197\n",
      "Test:  0.499894759333\n",
      "--------------------------------------------------------------------------------\n",
      "Task params {'learn_rate': 0.00012340980408667956, 'fp_depth': 3, 'b1': 0.018315638888734179, 'b2': 0.018315638888734179, 'init_scale': 0.018315638888734179, 'fp_length': 50, 'l2_penalty': 0.018315638888734179, 'l1_penalty': 0.006737946999085467, 'conv_width': 10}\n",
      "Total number of weights in the network: 11701\n",
      "N_ITER 2\n",
      "Iteration 0 loss 5.91630479004 train RMSE 1.21608855165 Validation RMSE 0 : 1.2005113977 \n",
      "\t Learning rate is constant => 0.000123409804087\n",
      "Iteration 1 loss 5.01559693435 train RMSE 1.11969651924 Validation RMSE 1 : 1.10447711732 \n",
      "\t Learning rate is constant => 0.000123409804087\n",
      "\n",
      "Performance (RMSE) on label:"
     ]
    },
    {
     "name": "stderr",
     "output_type": "stream",
     "text": [
      "100%|██████████| 200/200 [00:22<00:00,  8.73it/s]"
     ]
    },
    {
     "name": "stdout",
     "output_type": "stream",
     "text": [
      "\n",
      "Train: 1.02512642603\n",
      "Test:  1.01030360034\n",
      "--------------------------------------------------------------------------------\n"
     ]
    },
    {
     "name": "stderr",
     "output_type": "stream",
     "text": [
      "\n"
     ]
    }
   ],
   "source": [
    "s8_emb = \\\n",
    "    embed(train_input_directory     = train_dir,\n",
    "            train_label_mapping     = train_labels,\n",
    "            test_input_directory    = test_dir,\n",
    "            test_output_directory   = emb_dir,\n",
    "            method                  = 'nf-original',\n",
    "            n_epochs                = 2,\n",
    "            train                   = True)"
   ]
  },
  {
   "cell_type": "code",
   "execution_count": 87,
   "metadata": {
    "collapsed": false
   },
   "outputs": [
    {
     "name": "stdout",
     "output_type": "stream",
     "text": [
      "(0.6925782213919377, 0.73831075307696814)\n"
     ]
    }
   ],
   "source": [
    "X = np.array([])\n",
    "y = []\n",
    "\n",
    "for i, key in enumerate(s8_emb.keys()):\n",
    "    if i == 0:\n",
    "        X = np.hstack((X, s8_emb[key]))\n",
    "    else:\n",
    "        X = np.vstack((X, s8_emb[key]))\n",
    "    y.append(0 if int(key) < 500 else 1)\n",
    "\n",
    "print evaluate(X, y)"
   ]
  },
  {
   "cell_type": "markdown",
   "metadata": {},
   "source": [
    "## Stage 9 (75% Cross Links)"
   ]
  },
  {
   "cell_type": "code",
   "execution_count": 89,
   "metadata": {
    "collapsed": false
   },
   "outputs": [
    {
     "name": "stderr",
     "output_type": "stream",
     "text": [
      "100%|██████████| 500/500 [00:17<00:00, 29.04it/s]\n",
      "100%|██████████| 500/500 [00:17<00:00, 29.26it/s]\n"
     ]
    }
   ],
   "source": [
    "p_new_connection = 0.75\n",
    "\n",
    "circle_graphs = []\n",
    "for i in tqdm(xrange(500)):\n",
    "    G = nx.cycle_graph(np.random.randint(30, 100))\n",
    "    add_and_remove_edges(G, p_new_connection, 0)\n",
    "    save_graph(G, str(i) + '.edgelist', train_dir if i < 400 else test_dir)\n",
    "    if i < 400:\n",
    "        train_labels[str(i) + '.edgelist'] = 0\n",
    "    circle_graphs.append(G)\n",
    "    \n",
    "ba_graphs = []\n",
    "for i in tqdm(xrange(500)):\n",
    "    G = nx.barabasi_albert_graph(50, 5)\n",
    "    save_graph(G, str(i + 500) + '.edgelist', train_dir if (i + 500) < 900 else test_dir)\n",
    "    if (i + 500) < 900:\n",
    "        train_labels[str(i + 500) + '.edgelist'] = 1\n",
    "    ba_graphs.append(G)"
   ]
  },
  {
   "cell_type": "code",
   "execution_count": 90,
   "metadata": {
    "collapsed": false
   },
   "outputs": [
    {
     "name": "stdout",
     "output_type": "stream",
     "text": [
      "Loading data...\n",
      "Regression on 560 training points.\n",
      "--------------------------------------------------------------------------------\n",
      "Mean predictor\n",
      "\n",
      "Performance (RMSE) on label:\n",
      "Train: 0.499971300197\n",
      "Test:  0.499894759333\n",
      "--------------------------------------------------------------------------------\n",
      "Task params {'learn_rate': 0.00012340980408667956, 'fp_depth': 3, 'b1': 0.018315638888734179, 'b2': 0.018315638888734179, 'init_scale': 0.018315638888734179, 'fp_length': 50, 'l2_penalty': 0.018315638888734179, 'l1_penalty': 0.006737946999085467, 'conv_width': 10}\n",
      "Total number of weights in the network: 11701\n",
      "N_ITER 2\n",
      "Iteration 0 loss 5.49453211722 train RMSE 1.17193869366 Validation RMSE 0 : 1.18216911172 \n",
      "\t Learning rate is constant => 0.000123409804087\n",
      "Iteration 1 loss 4.64947117193 train RMSE 1.07805350611 Validation RMSE 1 : 1.08714124969 \n",
      "\t Learning rate is constant => 0.000123409804087\n",
      "\n",
      "Performance (RMSE) on label:"
     ]
    },
    {
     "name": "stderr",
     "output_type": "stream",
     "text": [
      "100%|██████████| 200/200 [00:21<00:00,  9.15it/s]"
     ]
    },
    {
     "name": "stdout",
     "output_type": "stream",
     "text": [
      "\n",
      "Train: 0.986084726724\n",
      "Test:  0.994017486269\n",
      "--------------------------------------------------------------------------------\n"
     ]
    },
    {
     "name": "stderr",
     "output_type": "stream",
     "text": [
      "\n"
     ]
    }
   ],
   "source": [
    "s9_emb = \\\n",
    "    embed(train_input_directory     = train_dir,\n",
    "            train_label_mapping     = train_labels,\n",
    "            test_input_directory    = test_dir,\n",
    "            test_output_directory   = emb_dir,\n",
    "            method                  = 'nf-original',\n",
    "            n_epochs                = 2,\n",
    "            train                   = True)"
   ]
  },
  {
   "cell_type": "code",
   "execution_count": 91,
   "metadata": {
    "collapsed": false
   },
   "outputs": [
    {
     "name": "stdout",
     "output_type": "stream",
     "text": [
      "(0.8330724865976874, 0.88301424822578989)\n"
     ]
    }
   ],
   "source": [
    "X = np.array([])\n",
    "y = []\n",
    "\n",
    "for i, key in enumerate(s9_emb.keys()):\n",
    "    if i == 0:\n",
    "        X = np.hstack((X, s9_emb[key]))\n",
    "    else:\n",
    "        X = np.vstack((X, s9_emb[key]))\n",
    "    y.append(0 if int(key) < 500 else 1)\n",
    "\n",
    "print evaluate(X, y)"
   ]
  },
  {
   "cell_type": "markdown",
   "metadata": {},
   "source": [
    "## Complete Visualization"
   ]
  },
  {
   "cell_type": "code",
   "execution_count": 95,
   "metadata": {
    "collapsed": false
   },
   "outputs": [
    {
     "data": {
      "image/png": "[encoded data removed]",
      "text/plain": [
       "<matplotlib.figure.Figure at 0x7f98d834fb10>"
      ]
     },
     "metadata": {},
     "output_type": "display_data"
    }
   ],
   "source": [
    "plt.rcParams['figure.figsize'] = (10, 6)\n",
    "\n",
    "labels = [\"simple\", \"base\", \"0.1\", \"0.3\", \"0.5\", \"0.7\", \"0.75\", \"0.8\", \"0.9\"]\n",
    "x = [1, 2, 3, 4, 5, 6, 6.25, 6.5, 7]\n",
    "AMI_scores = [1,1,1,1,1,0.95938369500356069,0.8330724865976874,\n",
    "              0.6925782213919377,0.57093115357219149]\n",
    "\n",
    "fig, ax = plt.subplots(1,1) \n",
    "ax.scatter(x, AMI_scores, marker='x', c='r')\n",
    "ax.plot(x, AMI_scores, linestyle='--', c='k')\n",
    "\n",
    "ax.set_title(\"Neural Fingerprint Performance v. Graph Complexity\")\n",
    "ax.set_xlabel(\"Graph Complexity\");\n",
    "ax.set_ylabel(\"AMI Score\");\n",
    "\n",
    "ax.set_xticks(x);\n",
    "ax.set_xticklabels(labels, rotation='vertical', fontsize=10);"
   ]
  }
 ],
 "metadata": {
  "kernelspec": {
   "display_name": "Python 2",
   "language": "python",
   "name": "python2"
  },
  "language_info": {
   "codemirror_mode": {
    "name": "ipython",
    "version": 2
   },
   "file_extension": ".py",
   "mimetype": "text/x-python",
   "name": "python",
   "nbconvert_exporter": "python",
   "pygments_lexer": "ipython2",
   "version": "2.7.13"
  }
 },
 "nbformat": 4,
 "nbformat_minor": 0
}
